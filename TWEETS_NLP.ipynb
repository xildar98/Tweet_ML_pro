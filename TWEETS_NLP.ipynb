{
  "nbformat": 4,
  "nbformat_minor": 0,
  "metadata": {
    "colab": {
      "name": "TWEETS_NLP.ipynb",
      "provenance": [],
      "collapsed_sections": []
    },
    "kernelspec": {
      "name": "python3",
      "display_name": "Python 3"
    },
    "accelerator": "GPU"
  },
  "cells": [
    {
      "cell_type": "code",
      "metadata": {
        "id": "WwQ82Jf0xPik",
        "colab_type": "code",
        "outputId": "e0e4b040-9430-418f-e949-86a8ced824b1",
        "colab": {
          "base_uri": "https://localhost:8080/",
          "height": 67
        }
      },
      "source": [
        "import nltk\n",
        "nltk.download('stopwords')"
      ],
      "execution_count": 0,
      "outputs": [
        {
          "output_type": "stream",
          "text": [
            "[nltk_data] Downloading package stopwords to /root/nltk_data...\n",
            "[nltk_data]   Package stopwords is already up-to-date!\n"
          ],
          "name": "stdout"
        },
        {
          "output_type": "execute_result",
          "data": {
            "text/plain": [
              "True"
            ]
          },
          "metadata": {
            "tags": []
          },
          "execution_count": 68
        }
      ]
    },
    {
      "cell_type": "code",
      "metadata": {
        "id": "CcwL0kF2uKqJ",
        "colab_type": "code",
        "colab": {}
      },
      "source": [
        "import pandas as pd\n",
        "import matplotlib.pyplot as plt\n",
        "import seaborn as sns\n",
        "import numpy as np\n",
        "from nltk.corpus import stopwords\n",
        "from nltk.util import ngrams\n",
        "from sklearn.feature_extraction.text import CountVectorizer\n",
        "from collections import defaultdict\n",
        "from collections import  Counter\n",
        "plt.style.use('ggplot')\n",
        "stop=set(stopwords.words('english'))\n",
        "import re\n",
        "from nltk.tokenize import word_tokenize\n",
        "import gensim\n",
        "import string\n",
        "from keras.preprocessing.text import Tokenizer\n",
        "from keras.preprocessing.sequence import pad_sequences\n",
        "from tqdm import tqdm\n",
        "from keras.models import Sequential\n",
        "from keras.layers import Embedding,LSTM,Dense,SpatialDropout1D\n",
        "from keras.initializers import Constant\n",
        "from sklearn.model_selection import train_test_split\n",
        "from keras.optimizers import Adam"
      ],
      "execution_count": 0,
      "outputs": []
    },
    {
      "cell_type": "code",
      "metadata": {
        "id": "ofrr7_M9xIKg",
        "colab_type": "code",
        "outputId": "3330f9db-0fc7-482d-d229-62ccf890105f",
        "colab": {
          "base_uri": "https://localhost:8080/",
          "height": 136
        }
      },
      "source": [
        "tweet= pd.read_csv('train.csv')\n",
        "test=pd.read_csv('test.csv')\n",
        "tweet.head(3)"
      ],
      "execution_count": 0,
      "outputs": [
        {
          "output_type": "execute_result",
          "data": {
            "text/html": [
              "<div>\n",
              "<style scoped>\n",
              "    .dataframe tbody tr th:only-of-type {\n",
              "        vertical-align: middle;\n",
              "    }\n",
              "\n",
              "    .dataframe tbody tr th {\n",
              "        vertical-align: top;\n",
              "    }\n",
              "\n",
              "    .dataframe thead th {\n",
              "        text-align: right;\n",
              "    }\n",
              "</style>\n",
              "<table border=\"1\" class=\"dataframe\">\n",
              "  <thead>\n",
              "    <tr style=\"text-align: right;\">\n",
              "      <th></th>\n",
              "      <th>id</th>\n",
              "      <th>keyword</th>\n",
              "      <th>location</th>\n",
              "      <th>text</th>\n",
              "      <th>target</th>\n",
              "    </tr>\n",
              "  </thead>\n",
              "  <tbody>\n",
              "    <tr>\n",
              "      <th>0</th>\n",
              "      <td>1</td>\n",
              "      <td>NaN</td>\n",
              "      <td>NaN</td>\n",
              "      <td>Our Deeds are the Reason of this #earthquake M...</td>\n",
              "      <td>1</td>\n",
              "    </tr>\n",
              "    <tr>\n",
              "      <th>1</th>\n",
              "      <td>4</td>\n",
              "      <td>NaN</td>\n",
              "      <td>NaN</td>\n",
              "      <td>Forest fire near La Ronge Sask. Canada</td>\n",
              "      <td>1</td>\n",
              "    </tr>\n",
              "    <tr>\n",
              "      <th>2</th>\n",
              "      <td>5</td>\n",
              "      <td>NaN</td>\n",
              "      <td>NaN</td>\n",
              "      <td>All residents asked to 'shelter in place' are ...</td>\n",
              "      <td>1</td>\n",
              "    </tr>\n",
              "  </tbody>\n",
              "</table>\n",
              "</div>"
            ],
            "text/plain": [
              "   id keyword  ...                                               text target\n",
              "0   1     NaN  ...  Our Deeds are the Reason of this #earthquake M...      1\n",
              "1   4     NaN  ...             Forest fire near La Ronge Sask. Canada      1\n",
              "2   5     NaN  ...  All residents asked to 'shelter in place' are ...      1\n",
              "\n",
              "[3 rows x 5 columns]"
            ]
          },
          "metadata": {
            "tags": []
          },
          "execution_count": 70
        }
      ]
    },
    {
      "cell_type": "code",
      "metadata": {
        "id": "VckJeSQWxfkO",
        "colab_type": "code",
        "outputId": "12d21afd-44a7-4cb2-aa85-97feca55bbb1",
        "colab": {
          "base_uri": "https://localhost:8080/",
          "height": 50
        }
      },
      "source": [
        "print('There are {} rows and {} columns in train'.format(tweet.shape[0],tweet.shape[1]))\n",
        "print('There are {} rows and {} columns in train'.format(test.shape[0],test.shape[1]))"
      ],
      "execution_count": 0,
      "outputs": [
        {
          "output_type": "stream",
          "text": [
            "There are 7613 rows and 5 columns in train\n",
            "There are 3263 rows and 4 columns in train\n"
          ],
          "name": "stdout"
        }
      ]
    },
    {
      "cell_type": "code",
      "metadata": {
        "id": "nz2xgVvMxnNs",
        "colab_type": "code",
        "colab": {}
      },
      "source": [
        "# SOME INFO"
      ],
      "execution_count": 0,
      "outputs": []
    },
    {
      "cell_type": "code",
      "metadata": {
        "id": "wrbLFG6Ixt04",
        "colab_type": "code",
        "outputId": "208f5fcd-42e9-4b05-fa01-3181fac15819",
        "colab": {
          "base_uri": "https://localhost:8080/",
          "height": 282
        }
      },
      "source": [
        "x=tweet.target.value_counts()\n",
        "sns.barplot(x.index,x)\n",
        "plt.gca().set_ylabel('samples')"
      ],
      "execution_count": 0,
      "outputs": [
        {
          "output_type": "execute_result",
          "data": {
            "text/plain": [
              "Text(0, 0.5, 'samples')"
            ]
          },
          "metadata": {
            "tags": []
          },
          "execution_count": 73
        },
        {
          "output_type": "display_data",
          "data": {
            "image/png": "[encoded data removed]",
            "text/plain": [
              "<Figure size 432x288 with 1 Axes>"
            ]
          },
          "metadata": {
            "tags": []
          }
        }
      ]
    },
    {
      "cell_type": "code",
      "metadata": {
        "id": "v6-r82SlxuKV",
        "colab_type": "code",
        "outputId": "a468cc49-2416-4337-bff7-298edac91f29",
        "colab": {
          "base_uri": "https://localhost:8080/",
          "height": 356
        }
      },
      "source": [
        "fig,(ax1,ax2)=plt.subplots(1,2,figsize=(10,5))\n",
        "tweet_len=tweet[tweet['target']==1]['text'].str.len()\n",
        "ax1.hist(tweet_len,color='red')\n",
        "ax1.set_title('disaster tweets')\n",
        "tweet_len=tweet[tweet['target']==0]['text'].str.len()\n",
        "ax2.hist(tweet_len,color='green')\n",
        "ax2.set_title('Not disaster tweets')\n",
        "fig.suptitle('Characters in tweets')\n",
        "plt.show()"
      ],
      "execution_count": 0,
      "outputs": [
        {
          "output_type": "display_data",
          "data": {
            "image/png": "[encoded data removed]",
            "text/plain": [
              "<Figure size 720x360 with 2 Axes>"
            ]
          },
          "metadata": {
            "tags": []
          }
        }
      ]
    },
    {
      "cell_type": "code",
      "metadata": {
        "id": "uN-vQzC-xv7o",
        "colab_type": "code",
        "outputId": "6bffb7eb-67ea-434f-ad30-1219f97bc674",
        "colab": {
          "base_uri": "https://localhost:8080/",
          "height": 356
        }
      },
      "source": [
        "fig,(ax1,ax2)=plt.subplots(1,2,figsize=(10,5))\n",
        "tweet_len=tweet[tweet['target']==1]['text'].str.split().map(lambda x: len(x))\n",
        "ax1.hist(tweet_len,color='red')\n",
        "ax1.set_title('disaster tweets')\n",
        "tweet_len=tweet[tweet['target']==0]['text'].str.split().map(lambda x: len(x))\n",
        "ax2.hist(tweet_len,color='green')\n",
        "ax2.set_title('Not disaster tweets')\n",
        "fig.suptitle('Words in a tweet')\n",
        "plt.show()"
      ],
      "execution_count": 0,
      "outputs": [
        {
          "output_type": "display_data",
          "data": {
            "image/png": "[encoded data removed]",
            "text/plain": [
              "<Figure size 720x360 with 2 Axes>"
            ]
          },
          "metadata": {
            "tags": []
          }
        }
      ]
    },
    {
      "cell_type": "code",
      "metadata": {
        "id": "MiErqfnlxxxU",
        "colab_type": "code",
        "outputId": "2bd7e77a-8a85-49cf-b7eb-f7df80f74b66",
        "colab": {
          "base_uri": "https://localhost:8080/",
          "height": 390
        }
      },
      "source": [
        "fig,(ax1,ax2)=plt.subplots(1,2,figsize=(10,5))\n",
        "word=tweet[tweet['target']==1]['text'].str.split().apply(lambda x : [len(i) for i in x])\n",
        "sns.distplot(word.map(lambda x: np.mean(x)),ax=ax1,color='red')\n",
        "ax1.set_title('disaster')\n",
        "word=tweet[tweet['target']==0]['text'].str.split().apply(lambda x : [len(i) for i in x])\n",
        "sns.distplot(word.map(lambda x: np.mean(x)),ax=ax2,color='green')\n",
        "ax2.set_title('Not disaster')\n",
        "fig.suptitle('Average word length in each tweet')"
      ],
      "execution_count": 0,
      "outputs": [
        {
          "output_type": "execute_result",
          "data": {
            "text/plain": [
              "Text(0.5, 0.98, 'Average word length in each tweet')"
            ]
          },
          "metadata": {
            "tags": []
          },
          "execution_count": 76
        },
        {
          "output_type": "display_data",
          "data": {
            "image/png": "[encoded data removed]",
            "text/plain": [
              "<Figure size 720x360 with 2 Axes>"
            ]
          },
          "metadata": {
            "tags": []
          }
        }
      ]
    },
    {
      "cell_type": "code",
      "metadata": {
        "id": "MCqWXT_mxzyv",
        "colab_type": "code",
        "colab": {}
      },
      "source": [
        "def create_corpus(target):\n",
        "    corpus=[]\n",
        "    \n",
        "    for x in tweet[tweet['target']==target]['text'].str.split():\n",
        "        for i in x:\n",
        "            corpus.append(i)\n",
        "    return corpus"
      ],
      "execution_count": 0,
      "outputs": []
    },
    {
      "cell_type": "code",
      "metadata": {
        "id": "lmDkd-jfx6cE",
        "colab_type": "code",
        "colab": {}
      },
      "source": [
        "corpus=create_corpus(0)\n"
      ],
      "execution_count": 0,
      "outputs": []
    },
    {
      "cell_type": "code",
      "metadata": {
        "id": "EuR0ca0ax7tI",
        "colab_type": "code",
        "colab": {}
      },
      "source": [
        "dic=defaultdict(int)\n",
        "for word in corpus:\n",
        "    if word in stop:\n",
        "        dic[word]+=1\n",
        "        \n",
        "top=sorted(dic.items(), key=lambda x:x[1],reverse=True)[:10] "
      ],
      "execution_count": 0,
      "outputs": []
    },
    {
      "cell_type": "code",
      "metadata": {
        "id": "jsaB9Ai-x-g_",
        "colab_type": "code",
        "outputId": "7eff8fa4-084a-4c80-f884-2f68355ee8db",
        "colab": {
          "base_uri": "https://localhost:8080/",
          "height": 286
        }
      },
      "source": [
        "x,y=zip(*top)\n",
        "plt.bar(x,y)"
      ],
      "execution_count": 0,
      "outputs": [
        {
          "output_type": "execute_result",
          "data": {
            "text/plain": [
              "<BarContainer object of 10 artists>"
            ]
          },
          "metadata": {
            "tags": []
          },
          "execution_count": 80
        },
        {
          "output_type": "display_data",
          "data": {
            "image/png": "[encoded data removed]",
            "text/plain": [
              "<Figure size 432x288 with 1 Axes>"
            ]
          },
          "metadata": {
            "tags": []
          }
        }
      ]
    },
    {
      "cell_type": "code",
      "metadata": {
        "id": "TKrr6pwPx_1_",
        "colab_type": "code",
        "outputId": "19fd941c-85df-4e88-c2ad-bc6372ce4dc5",
        "colab": {
          "base_uri": "https://localhost:8080/",
          "height": 282
        }
      },
      "source": [
        "corpus=create_corpus(1)\n",
        "\n",
        "dic=defaultdict(int)\n",
        "for word in corpus:\n",
        "    if word in stop:\n",
        "        dic[word]+=1\n",
        "\n",
        "top=sorted(dic.items(), key=lambda x:x[1],reverse=True)[:10] \n",
        "    \n",
        "\n",
        "\n",
        "x,y=zip(*top)\n",
        "plt.bar(x,y)"
      ],
      "execution_count": 0,
      "outputs": [
        {
          "output_type": "execute_result",
          "data": {
            "text/plain": [
              "<BarContainer object of 10 artists>"
            ]
          },
          "metadata": {
            "tags": []
          },
          "execution_count": 81
        },
        {
          "output_type": "display_data",
          "data": {
            "image/png": "[encoded data removed]",
            "text/plain": [
              "<Figure size 432x288 with 1 Axes>"
            ]
          },
          "metadata": {
            "tags": []
          }
        }
      ]
    },
    {
      "cell_type": "code",
      "metadata": {
        "id": "3WdHwnzmyBo3",
        "colab_type": "code",
        "outputId": "bbc913a8-ef50-41da-d052-3ec2ab916d64",
        "colab": {
          "base_uri": "https://localhost:8080/",
          "height": 337
        }
      },
      "source": [
        "plt.figure(figsize=(10,5))\n",
        "corpus=create_corpus(1)\n",
        "\n",
        "dic=defaultdict(int)\n",
        "import string\n",
        "special = string.punctuation\n",
        "for i in (corpus):\n",
        "    if i in special:\n",
        "        dic[i]+=1\n",
        "        \n",
        "x,y=zip(*dic.items())\n",
        "plt.bar(x,y)"
      ],
      "execution_count": 0,
      "outputs": [
        {
          "output_type": "execute_result",
          "data": {
            "text/plain": [
              "<BarContainer object of 18 artists>"
            ]
          },
          "metadata": {
            "tags": []
          },
          "execution_count": 82
        },
        {
          "output_type": "display_data",
          "data": {
            "image/png": "[encoded data removed]",
            "text/plain": [
              "<Figure size 720x360 with 1 Axes>"
            ]
          },
          "metadata": {
            "tags": []
          }
        }
      ]
    },
    {
      "cell_type": "code",
      "metadata": {
        "id": "n0Y5EX3VyDW8",
        "colab_type": "code",
        "outputId": "99706bfa-ee70-4c45-f6bf-19f0abf8c349",
        "colab": {
          "base_uri": "https://localhost:8080/",
          "height": 337
        }
      },
      "source": [
        "plt.figure(figsize=(10,5))\n",
        "corpus=create_corpus(0)\n",
        "\n",
        "dic=defaultdict(int)\n",
        "import string\n",
        "special = string.punctuation\n",
        "for i in (corpus):\n",
        "    if i in special:\n",
        "        dic[i]+=1\n",
        "        \n",
        "x,y=zip(*dic.items())\n",
        "plt.bar(x,y,color='green')"
      ],
      "execution_count": 0,
      "outputs": [
        {
          "output_type": "execute_result",
          "data": {
            "text/plain": [
              "<BarContainer object of 20 artists>"
            ]
          },
          "metadata": {
            "tags": []
          },
          "execution_count": 83
        },
        {
          "output_type": "display_data",
          "data": {
            "image/png": "[encoded data removed]",
            "text/plain": [
              "<Figure size 720x360 with 1 Axes>"
            ]
          },
          "metadata": {
            "tags": []
          }
        }
      ]
    },
    {
      "cell_type": "code",
      "metadata": {
        "id": "eW3VQ-n6yFnY",
        "colab_type": "code",
        "colab": {}
      },
      "source": [
        "counter=Counter(corpus)\n",
        "most=counter.most_common()\n",
        "x=[]\n",
        "y=[]\n",
        "for word,count in most[:40]:\n",
        "    if (word not in stop) :\n",
        "        x.append(word)\n",
        "        y.append(count)"
      ],
      "execution_count": 0,
      "outputs": []
    },
    {
      "cell_type": "code",
      "metadata": {
        "id": "HIzHomqayKj4",
        "colab_type": "code",
        "outputId": "6d427630-7572-46f7-cc45-1a1606529c8d",
        "colab": {
          "base_uri": "https://localhost:8080/",
          "height": 282
        }
      },
      "source": [
        "sns.barplot(x=y,y=x)\n"
      ],
      "execution_count": 0,
      "outputs": [
        {
          "output_type": "execute_result",
          "data": {
            "text/plain": [
              "<matplotlib.axes._subplots.AxesSubplot at 0x7f7f39cffbe0>"
            ]
          },
          "metadata": {
            "tags": []
          },
          "execution_count": 85
        },
        {
          "output_type": "display_data",
          "data": {
            "image/png": "[encoded data removed]",
            "text/plain": [
              "<Figure size 432x288 with 1 Axes>"
            ]
          },
          "metadata": {
            "tags": []
          }
        }
      ]
    },
    {
      "cell_type": "code",
      "metadata": {
        "id": "vQDZvXn2yM5T",
        "colab_type": "code",
        "colab": {}
      },
      "source": [
        "#NGRAM"
      ],
      "execution_count": 0,
      "outputs": []
    },
    {
      "cell_type": "code",
      "metadata": {
        "id": "tcmQxtoMyPac",
        "colab_type": "code",
        "colab": {}
      },
      "source": [
        "def get_top_tweet_bigrams(corpus, n=None):\n",
        "    vec = CountVectorizer(ngram_range=(2, 2)).fit(corpus)\n",
        "    bag_of_words = vec.transform(corpus)\n",
        "    sum_words = bag_of_words.sum(axis=0) \n",
        "    words_freq = [(word, sum_words[0, idx]) for word, idx in vec.vocabulary_.items()]\n",
        "    words_freq =sorted(words_freq, key = lambda x: x[1], reverse=True)\n",
        "    return words_freq[:n]"
      ],
      "execution_count": 0,
      "outputs": []
    },
    {
      "cell_type": "code",
      "metadata": {
        "id": "2tx8aXsSyTH0",
        "colab_type": "code",
        "outputId": "850fd6c8-5706-402c-8185-8e941747da95",
        "colab": {
          "base_uri": "https://localhost:8080/",
          "height": 337
        }
      },
      "source": [
        "plt.figure(figsize=(10,5))\n",
        "top_tweet_bigrams=get_top_tweet_bigrams(tweet['text'])[:10]\n",
        "x,y=map(list,zip(*top_tweet_bigrams))\n",
        "sns.barplot(x=y,y=x)"
      ],
      "execution_count": 0,
      "outputs": [
        {
          "output_type": "execute_result",
          "data": {
            "text/plain": [
              "<matplotlib.axes._subplots.AxesSubplot at 0x7f7f39b8eac8>"
            ]
          },
          "metadata": {
            "tags": []
          },
          "execution_count": 88
        },
        {
          "output_type": "display_data",
          "data": {
            "image/png": "[encoded data removed]",
            "text/plain": [
              "<Figure size 720x360 with 1 Axes>"
            ]
          },
          "metadata": {
            "tags": []
          }
        }
      ]
    },
    {
      "cell_type": "code",
      "metadata": {
        "id": "BwEs--8EyUmM",
        "colab_type": "code",
        "colab": {}
      },
      "source": [
        "# Data Cleaning"
      ],
      "execution_count": 0,
      "outputs": []
    },
    {
      "cell_type": "code",
      "metadata": {
        "id": "fd9lVZ_xyWu3",
        "colab_type": "code",
        "outputId": "e3577b17-1486-4699-fd3a-b18dcfd3a644",
        "colab": {
          "base_uri": "https://localhost:8080/",
          "height": 188
        }
      },
      "source": [
        "df=pd.concat([tweet,test])\n",
        "df.shape"
      ],
      "execution_count": 0,
      "outputs": [
        {
          "output_type": "stream",
          "text": [
            "/usr/local/lib/python3.6/dist-packages/ipykernel_launcher.py:1: FutureWarning: Sorting because non-concatenation axis is not aligned. A future version\n",
            "of pandas will change to not sort by default.\n",
            "\n",
            "To accept the future behavior, pass 'sort=False'.\n",
            "\n",
            "To retain the current behavior and silence the warning, pass 'sort=True'.\n",
            "\n",
            "  \"\"\"Entry point for launching an IPython kernel.\n"
          ],
          "name": "stderr"
        },
        {
          "output_type": "execute_result",
          "data": {
            "text/plain": [
              "(10876, 5)"
            ]
          },
          "metadata": {
            "tags": []
          },
          "execution_count": 106
        }
      ]
    },
    {
      "cell_type": "code",
      "metadata": {
        "id": "any-nqLgyaOf",
        "colab_type": "code",
        "outputId": "b9494a12-2e0e-41f6-ff57-81e399025b8b",
        "colab": {
          "base_uri": "https://localhost:8080/",
          "height": 34
        }
      },
      "source": [
        "example=\"New competition launched :https://www.kaggle.com/c/nlp-getting-started\"\n",
        "def remove_URL(text):\n",
        "    url = re.compile(r'https?://\\S+|www\\.\\S+')\n",
        "    return url.sub(r'',text)\n",
        "\n",
        "remove_URL(example)"
      ],
      "execution_count": 0,
      "outputs": [
        {
          "output_type": "execute_result",
          "data": {
            "text/plain": [
              "'New competition launched :'"
            ]
          },
          "metadata": {
            "tags": []
          },
          "execution_count": 107
        }
      ]
    },
    {
      "cell_type": "code",
      "metadata": {
        "id": "UmDjT29rydus",
        "colab_type": "code",
        "colab": {}
      },
      "source": [
        "df['text']=df['text'].apply(lambda x : remove_URL(x))\n"
      ],
      "execution_count": 0,
      "outputs": []
    },
    {
      "cell_type": "code",
      "metadata": {
        "id": "h6A0tAuNyfEU",
        "colab_type": "code",
        "outputId": "bc142b98-e079-4d05-9b5e-d67fe5646ce0",
        "colab": {
          "base_uri": "https://localhost:8080/",
          "height": 101
        }
      },
      "source": [
        "example = \"\"\"<div>\n",
        "<h1>Real or Fake</h1>\n",
        "<p>Kaggle </p>\n",
        "<a href=\"https://www.kaggle.com/c/nlp-getting-started\">getting started</a>\n",
        "</div>\"\"\"\n",
        "def remove_html(text):\n",
        "    html=re.compile(r'<.*?>')\n",
        "    return html.sub(r'',text)\n",
        "print(remove_html(example))"
      ],
      "execution_count": 0,
      "outputs": [
        {
          "output_type": "stream",
          "text": [
            "\n",
            "Real or Fake\n",
            "Kaggle \n",
            "getting started\n",
            "\n"
          ],
          "name": "stdout"
        }
      ]
    },
    {
      "cell_type": "code",
      "metadata": {
        "id": "e-tiu0Anyjol",
        "colab_type": "code",
        "colab": {}
      },
      "source": [
        "df['text']=df['text'].apply(lambda x : remove_html(x))"
      ],
      "execution_count": 0,
      "outputs": []
    },
    {
      "cell_type": "code",
      "metadata": {
        "id": "zNJieae0ylHo",
        "colab_type": "code",
        "outputId": "df688e3d-dfae-46ab-d908-2daa1d2ca5ad",
        "colab": {
          "base_uri": "https://localhost:8080/",
          "height": 34
        }
      },
      "source": [
        "# Reference : https://gist.github.com/slowkow/7a7f61f495e3dbb7e3d767f97bd7304b\n",
        "def remove_emoji(text):\n",
        "    emoji_pattern = re.compile(\"[\"\n",
        "                           u\"\\U0001F600-\\U0001F64F\"  # emoticons\n",
        "                           u\"\\U0001F300-\\U0001F5FF\"  # symbols & pictographs\n",
        "                           u\"\\U0001F680-\\U0001F6FF\"  # transport & map symbols\n",
        "                           u\"\\U0001F1E0-\\U0001F1FF\"  # flags (iOS)\n",
        "                           u\"\\U00002702-\\U000027B0\"\n",
        "                           u\"\\U000024C2-\\U0001F251\"\n",
        "                           \"]+\", flags=re.UNICODE)\n",
        "    return emoji_pattern.sub(r'', text)\n",
        "\n",
        "remove_emoji(\"Omg another Earthquake 😔😔\")"
      ],
      "execution_count": 0,
      "outputs": [
        {
          "output_type": "execute_result",
          "data": {
            "text/plain": [
              "'Omg another Earthquake '"
            ]
          },
          "metadata": {
            "tags": []
          },
          "execution_count": 111
        }
      ]
    },
    {
      "cell_type": "code",
      "metadata": {
        "id": "TUIDrbd-ym6e",
        "colab_type": "code",
        "colab": {}
      },
      "source": [
        "df['text']=df['text'].apply(lambda x: remove_emoji(x))\n"
      ],
      "execution_count": 0,
      "outputs": []
    },
    {
      "cell_type": "code",
      "metadata": {
        "id": "wylsvthlyqpt",
        "colab_type": "code",
        "outputId": "8b9d5cf2-f80b-4c73-cc12-152cf14cc718",
        "colab": {
          "base_uri": "https://localhost:8080/",
          "height": 34
        }
      },
      "source": [
        "def remove_punct(text):\n",
        "    table=str.maketrans('','',string.punctuation)\n",
        "    return text.translate(table)\n",
        "\n",
        "example=\"I am a #king\"\n",
        "print(remove_punct(example))"
      ],
      "execution_count": 0,
      "outputs": [
        {
          "output_type": "stream",
          "text": [
            "I am a king\n"
          ],
          "name": "stdout"
        }
      ]
    },
    {
      "cell_type": "code",
      "metadata": {
        "id": "SSYHB5YFyuUY",
        "colab_type": "code",
        "colab": {}
      },
      "source": [
        "df['text']=df['text'].apply(lambda x : remove_punct(x))\n"
      ],
      "execution_count": 0,
      "outputs": []
    },
    {
      "cell_type": "code",
      "metadata": {
        "id": "pEUypFEzyvsE",
        "colab_type": "code",
        "outputId": "271d7c17-88e6-4f03-83c1-028bd7623734",
        "colab": {
          "base_uri": "https://localhost:8080/",
          "height": 34
        }
      },
      "source": [
        "!pip install pyspellchecker\n"
      ],
      "execution_count": 0,
      "outputs": [
        {
          "output_type": "stream",
          "text": [
            "Requirement already satisfied: pyspellchecker in /usr/local/lib/python3.6/dist-packages (0.5.4)\n"
          ],
          "name": "stdout"
        }
      ]
    },
    {
      "cell_type": "code",
      "metadata": {
        "id": "ymMFCyC0yxH8",
        "colab_type": "code",
        "outputId": "7bac905d-a3c0-49f6-a64c-954d5c561072",
        "colab": {
          "base_uri": "https://localhost:8080/",
          "height": 34
        }
      },
      "source": [
        "from spellchecker import SpellChecker\n",
        "\n",
        "spell = SpellChecker()\n",
        "def correct_spellings(text):\n",
        "    corrected_text = []\n",
        "    misspelled_words = spell.unknown(text.split())\n",
        "    for word in text.split():\n",
        "        if word in misspelled_words:\n",
        "            corrected_text.append(spell.correction(word))\n",
        "        else:\n",
        "            corrected_text.append(word)\n",
        "    return \" \".join(corrected_text)\n",
        "        \n",
        "text = \"corect me plese\"\n",
        "correct_spellings(text)"
      ],
      "execution_count": 0,
      "outputs": [
        {
          "output_type": "execute_result",
          "data": {
            "text/plain": [
              "'correct me please'"
            ]
          },
          "metadata": {
            "tags": []
          },
          "execution_count": 116
        }
      ]
    },
    {
      "cell_type": "code",
      "metadata": {
        "id": "nSBiZ40vy0Kc",
        "colab_type": "code",
        "colab": {}
      },
      "source": [
        "#df['text']=df['text'].apply(lambda x : correct_spellings(x))\n",
        "# very time consuming"
      ],
      "execution_count": 0,
      "outputs": []
    },
    {
      "cell_type": "code",
      "metadata": {
        "id": "lOMT9Mf3zErL",
        "colab_type": "code",
        "outputId": "febf7822-723f-4547-945d-8d076ecfff9b",
        "colab": {
          "base_uri": "https://localhost:8080/",
          "height": 67
        }
      },
      "source": [
        "nltk.download('punkt')"
      ],
      "execution_count": 0,
      "outputs": [
        {
          "output_type": "stream",
          "text": [
            "[nltk_data] Downloading package punkt to /root/nltk_data...\n",
            "[nltk_data]   Package punkt is already up-to-date!\n"
          ],
          "name": "stdout"
        },
        {
          "output_type": "execute_result",
          "data": {
            "text/plain": [
              "True"
            ]
          },
          "metadata": {
            "tags": []
          },
          "execution_count": 118
        }
      ]
    },
    {
      "cell_type": "code",
      "metadata": {
        "id": "GfNI00Tiy3Bn",
        "colab_type": "code",
        "colab": {}
      },
      "source": [
        "def create_corpus(df):\n",
        "    corpus=[]\n",
        "    for tweet in tqdm(df['text']):\n",
        "        words=[word.lower() for word in word_tokenize(tweet) if((word.isalpha()==1) & (word not in stop))]\n",
        "        corpus.append(words)\n",
        "    return corpus"
      ],
      "execution_count": 0,
      "outputs": []
    },
    {
      "cell_type": "code",
      "metadata": {
        "id": "UjXpWQLdzBWA",
        "colab_type": "code",
        "outputId": "664a85fb-6ca9-4b5b-cf21-ca5047827bfa",
        "colab": {
          "base_uri": "https://localhost:8080/",
          "height": 34
        }
      },
      "source": [
        "corpus=create_corpus(df)\n"
      ],
      "execution_count": 0,
      "outputs": [
        {
          "output_type": "stream",
          "text": [
            "100%|██████████| 10876/10876 [00:01<00:00, 7466.78it/s]\n"
          ],
          "name": "stderr"
        }
      ]
    },
    {
      "cell_type": "code",
      "metadata": {
        "id": "5gZf6xCYzCVr",
        "colab_type": "code",
        "outputId": "6f740c65-e5eb-446e-a832-298359c9c685",
        "colab": {
          "base_uri": "https://localhost:8080/",
          "height": 353
        }
      },
      "source": [
        "!wget http://nlp.stanford.edu/data/glove.6B.zip"
      ],
      "execution_count": 0,
      "outputs": [
        {
          "output_type": "stream",
          "text": [
            "--2020-03-11 18:19:20--  http://nlp.stanford.edu/data/glove.6B.zip\n",
            "Resolving nlp.stanford.edu (nlp.stanford.edu)... 171.64.67.140\n",
            "Connecting to nlp.stanford.edu (nlp.stanford.edu)|171.64.67.140|:80... connected.\n",
            "HTTP request sent, awaiting response... 302 Found\n",
            "Location: https://nlp.stanford.edu/data/glove.6B.zip [following]\n",
            "--2020-03-11 18:19:21--  https://nlp.stanford.edu/data/glove.6B.zip\n",
            "Connecting to nlp.stanford.edu (nlp.stanford.edu)|171.64.67.140|:443... connected.\n",
            "HTTP request sent, awaiting response... 301 Moved Permanently\n",
            "Location: http://downloads.cs.stanford.edu/nlp/data/glove.6B.zip [following]\n",
            "--2020-03-11 18:19:21--  http://downloads.cs.stanford.edu/nlp/data/glove.6B.zip\n",
            "Resolving downloads.cs.stanford.edu (downloads.cs.stanford.edu)... 171.64.64.22\n",
            "Connecting to downloads.cs.stanford.edu (downloads.cs.stanford.edu)|171.64.64.22|:80... connected.\n",
            "HTTP request sent, awaiting response... 200 OK\n",
            "Length: 862182613 (822M) [application/zip]\n",
            "Saving to: ‘glove.6B.zip’\n",
            "\n",
            "glove.6B.zip        100%[===================>] 822.24M  2.02MB/s    in 6m 30s  \n",
            "\n",
            "2020-03-11 18:25:52 (2.11 MB/s) - ‘glove.6B.zip’ saved [862182613/862182613]\n",
            "\n"
          ],
          "name": "stdout"
        }
      ]
    },
    {
      "cell_type": "code",
      "metadata": {
        "id": "4tpZ4uHSz_UZ",
        "colab_type": "code",
        "outputId": "07bec4a6-e23f-48bb-f423-a102744000b7",
        "colab": {
          "base_uri": "https://localhost:8080/",
          "height": 101
        }
      },
      "source": [
        "!unzip glove\\.\\6B.zip"
      ],
      "execution_count": 0,
      "outputs": [
        {
          "output_type": "stream",
          "text": [
            "Archive:  glove.6B.zip\n",
            "  inflating: glove.6B.50d.txt        \n",
            "  inflating: glove.6B.100d.txt       \n",
            "  inflating: glove.6B.200d.txt       \n",
            "  inflating: glove.6B.300d.txt       \n"
          ],
          "name": "stdout"
        }
      ]
    },
    {
      "cell_type": "code",
      "metadata": {
        "id": "cVak2gYh2OdP",
        "colab_type": "code",
        "colab": {}
      },
      "source": [
        "embedding_dict={}\n",
        "with open('glove.6B.100d.txt','r') as f:\n",
        "    for line in f:\n",
        "        values=line.split()\n",
        "        word=values[0]\n",
        "        vectors=np.asarray(values[1:],'float32')\n",
        "        embedding_dict[word]=vectors\n",
        "f.close()"
      ],
      "execution_count": 0,
      "outputs": []
    },
    {
      "cell_type": "code",
      "metadata": {
        "id": "-kslqxcO2XBv",
        "colab_type": "code",
        "colab": {}
      },
      "source": [
        "MAX_LEN=50\n",
        "tokenizer_obj=Tokenizer()\n",
        "tokenizer_obj.fit_on_texts(corpus)\n",
        "sequences=tokenizer_obj.texts_to_sequences(corpus)\n",
        "\n",
        "tweet_pad=pad_sequences(sequences,maxlen=MAX_LEN,truncating='post',padding='post')"
      ],
      "execution_count": 0,
      "outputs": []
    },
    {
      "cell_type": "code",
      "metadata": {
        "id": "l0cvVg9c2olh",
        "colab_type": "code",
        "outputId": "d56e5dfb-9feb-4e54-ccad-46f5658407c7",
        "colab": {
          "base_uri": "https://localhost:8080/",
          "height": 34
        }
      },
      "source": [
        "word_index=tokenizer_obj.word_index\n",
        "print('Number of unique words:',len(word_index))"
      ],
      "execution_count": 0,
      "outputs": [
        {
          "output_type": "stream",
          "text": [
            "Number of unique words: 20342\n"
          ],
          "name": "stdout"
        }
      ]
    },
    {
      "cell_type": "code",
      "metadata": {
        "id": "opt18a622qLq",
        "colab_type": "code",
        "outputId": "a140e87c-a35b-4367-cbed-2868adbdf87e",
        "colab": {
          "base_uri": "https://localhost:8080/",
          "height": 34
        }
      },
      "source": [
        "num_words=len(word_index)+1\n",
        "embedding_matrix=np.zeros((num_words,100))\n",
        "\n",
        "for word,i in tqdm(word_index.items()):\n",
        "    if i > num_words:\n",
        "        continue\n",
        "    \n",
        "    emb_vec=embedding_dict.get(word)\n",
        "    if emb_vec is not None:\n",
        "        embedding_matrix[i]=emb_vec"
      ],
      "execution_count": 0,
      "outputs": [
        {
          "output_type": "stream",
          "text": [
            "100%|██████████| 20342/20342 [00:00<00:00, 506798.45it/s]\n"
          ],
          "name": "stderr"
        }
      ]
    },
    {
      "cell_type": "code",
      "metadata": {
        "id": "oc-ECy1X2sVG",
        "colab_type": "code",
        "colab": {}
      },
      "source": [
        "##\n",
        "\n",
        "#\n",
        "#\n",
        "#\n",
        "#\n",
        "# MODEL1 "
      ],
      "execution_count": 0,
      "outputs": []
    },
    {
      "cell_type": "code",
      "metadata": {
        "id": "QcqmG7S528tW",
        "colab_type": "code",
        "colab": {}
      },
      "source": [
        "train=tweet_pad[:tweet.shape[0]]\n",
        "test=tweet_pad[tweet.shape[0]:]"
      ],
      "execution_count": 0,
      "outputs": []
    },
    {
      "cell_type": "code",
      "metadata": {
        "id": "5YGoJDkB2-56",
        "colab_type": "code",
        "outputId": "8bb3bbe2-cc1b-4c48-99da-4ae21b4de70b",
        "colab": {
          "base_uri": "https://localhost:8080/",
          "height": 50
        }
      },
      "source": [
        "X_train,X_test,y_train,y_test=train_test_split(train,tweet['target'].values,test_size=0.15)\n",
        "print('Shape of train',X_train.shape)\n",
        "print(\"Shape of Validation \",X_test.shape)"
      ],
      "execution_count": 0,
      "outputs": [
        {
          "output_type": "stream",
          "text": [
            "Shape of train (6471, 50)\n",
            "Shape of Validation  (1142, 50)\n"
          ],
          "name": "stdout"
        }
      ]
    },
    {
      "cell_type": "code",
      "metadata": {
        "id": "MJU5XcSUAwRc",
        "colab_type": "code",
        "colab": {}
      },
      "source": [
        "sample_sub=pd.read_csv('sample_submission.csv')\n",
        "\n",
        "def predict_kaggle(model):\n",
        "  y_pre=model.predict(test)\n",
        "  y_pre=np.round(y_pre).astype(int).reshape(3263)\n",
        "  sub=pd.DataFrame({'id':sample_sub['id'].values.tolist(),'target':y_pre})\n",
        "  sub.to_csv('submission.csv',index=False)"
      ],
      "execution_count": 0,
      "outputs": []
    },
    {
      "cell_type": "code",
      "metadata": {
        "id": "Dn4PHhEN2xJn",
        "colab_type": "code",
        "colab": {}
      },
      "source": [
        "model=Sequential()\n",
        "\n",
        "embedding=Embedding(num_words,100,embeddings_initializer=Constant(embedding_matrix),\n",
        "                   input_length=MAX_LEN,trainable=False)\n",
        "\n",
        "model.add(embedding)\n",
        "model.add(SpatialDropout1D(0.2))\n",
        "model.add(LSTM(128, dropout=0.2, recurrent_dropout=0.2))\n",
        "model.add(Dense(64, activation='relu'))\n",
        "model.add(Dense(1, activation='sigmoid'))\n",
        "\n",
        "\n",
        "optimzer=Adam(lr=1e-4)\n",
        "\n",
        "model.compile(loss='binary_crossentropy',optimizer=optimzer,metrics=['accuracy'])"
      ],
      "execution_count": 0,
      "outputs": []
    },
    {
      "cell_type": "code",
      "metadata": {
        "id": "K_xZOFiF2xtO",
        "colab_type": "code",
        "outputId": "ec90fef9-3a97-46c5-9908-e4a6cbf0cc83",
        "colab": {
          "base_uri": "https://localhost:8080/",
          "height": 319
        }
      },
      "source": [
        "model.summary()\n"
      ],
      "execution_count": 0,
      "outputs": [
        {
          "output_type": "stream",
          "text": [
            "Model: \"sequential_12\"\n",
            "_________________________________________________________________\n",
            "Layer (type)                 Output Shape              Param #   \n",
            "=================================================================\n",
            "embedding_12 (Embedding)     (None, 50, 100)           2034300   \n",
            "_________________________________________________________________\n",
            "spatial_dropout1d_12 (Spatia (None, 50, 100)           0         \n",
            "_________________________________________________________________\n",
            "lstm_12 (LSTM)               (None, 128)               117248    \n",
            "_________________________________________________________________\n",
            "dense_17 (Dense)             (None, 64)                8256      \n",
            "_________________________________________________________________\n",
            "dense_18 (Dense)             (None, 1)                 65        \n",
            "=================================================================\n",
            "Total params: 2,159,869\n",
            "Trainable params: 125,569\n",
            "Non-trainable params: 2,034,300\n",
            "_________________________________________________________________\n"
          ],
          "name": "stdout"
        }
      ]
    },
    {
      "cell_type": "code",
      "metadata": {
        "id": "k3wd-nnT3Gye",
        "colab_type": "code",
        "outputId": "f2c5c04e-a39e-4815-9397-a935ea758177",
        "colab": {
          "base_uri": "https://localhost:8080/",
          "height": 538
        }
      },
      "source": [
        "history=model.fit(X_train,y_train,batch_size=64,epochs=15,validation_data=(X_test,y_test),verbose=1)"
      ],
      "execution_count": 0,
      "outputs": [
        {
          "output_type": "stream",
          "text": [
            "Train on 6471 samples, validate on 1142 samples\n",
            "Epoch 1/15\n",
            "6471/6471 [==============================] - 14s 2ms/step - loss: 0.6794 - acc: 0.5804 - val_loss: 0.5601 - val_acc: 0.7609\n",
            "Epoch 2/15\n",
            "6471/6471 [==============================] - 12s 2ms/step - loss: 0.5430 - acc: 0.7512 - val_loss: 0.4876 - val_acc: 0.7855\n",
            "Epoch 3/15\n",
            "6471/6471 [==============================] - 12s 2ms/step - loss: 0.5221 - acc: 0.7616 - val_loss: 0.4874 - val_acc: 0.7802\n",
            "Epoch 4/15\n",
            "6471/6471 [==============================] - 12s 2ms/step - loss: 0.5068 - acc: 0.7753 - val_loss: 0.4811 - val_acc: 0.7785\n",
            "Epoch 5/15\n",
            "6471/6471 [==============================] - 12s 2ms/step - loss: 0.5043 - acc: 0.7796 - val_loss: 0.4774 - val_acc: 0.7820\n",
            "Epoch 6/15\n",
            "6471/6471 [==============================] - 12s 2ms/step - loss: 0.5000 - acc: 0.7807 - val_loss: 0.4771 - val_acc: 0.7828\n",
            "Epoch 7/15\n",
            "6471/6471 [==============================] - 12s 2ms/step - loss: 0.5046 - acc: 0.7755 - val_loss: 0.4740 - val_acc: 0.7872\n",
            "Epoch 8/15\n",
            "6471/6471 [==============================] - 12s 2ms/step - loss: 0.4956 - acc: 0.7784 - val_loss: 0.4756 - val_acc: 0.7881\n",
            "Epoch 9/15\n",
            "6471/6471 [==============================] - 12s 2ms/step - loss: 0.4961 - acc: 0.7838 - val_loss: 0.4761 - val_acc: 0.7846\n",
            "Epoch 10/15\n",
            "6471/6471 [==============================] - 12s 2ms/step - loss: 0.4850 - acc: 0.7903 - val_loss: 0.4748 - val_acc: 0.7846\n",
            "Epoch 11/15\n",
            "6471/6471 [==============================] - 12s 2ms/step - loss: 0.4976 - acc: 0.7813 - val_loss: 0.4717 - val_acc: 0.7846\n",
            "Epoch 12/15\n",
            "6471/6471 [==============================] - 12s 2ms/step - loss: 0.4924 - acc: 0.7806 - val_loss: 0.4711 - val_acc: 0.7881\n",
            "Epoch 13/15\n",
            "6471/6471 [==============================] - 12s 2ms/step - loss: 0.4850 - acc: 0.7875 - val_loss: 0.4694 - val_acc: 0.7863\n",
            "Epoch 14/15\n",
            "6471/6471 [==============================] - 12s 2ms/step - loss: 0.4846 - acc: 0.7869 - val_loss: 0.4640 - val_acc: 0.7890\n",
            "Epoch 15/15\n",
            "6471/6471 [==============================] - 12s 2ms/step - loss: 0.4855 - acc: 0.7887 - val_loss: 0.4678 - val_acc: 0.7828\n"
          ],
          "name": "stdout"
        }
      ]
    },
    {
      "cell_type": "code",
      "metadata": {
        "id": "iDlN77jX5ST9",
        "colab_type": "code",
        "colab": {}
      },
      "source": [
        "from keras.layers import Dense, Dropout, Embedding, LSTM, Bidirectional\n",
        "model=Sequential()\n",
        "\n",
        "embedding=Embedding(num_words,100,embeddings_initializer=Constant(embedding_matrix),\n",
        "                   input_length=MAX_LEN,trainable=False)\n",
        "\n",
        "model.add(embedding)\n",
        "model.add(SpatialDropout1D(0.2))\n",
        "model.add(Bidirectional(LSTM(64, dropout=0.2, recurrent_dropout=0.2)))\n",
        "model.add(Dense(64, activation='relu'))\n",
        "model.add(Dense(1, activation='sigmoid'))\n",
        "\n",
        "\n",
        "#optimzer=Adam(lr=1e-5)\n",
        "optimzer=Adam()\n",
        "\n",
        "model.compile(loss='binary_crossentropy',optimizer=optimzer,metrics=['accuracy'])"
      ],
      "execution_count": 0,
      "outputs": []
    },
    {
      "cell_type": "code",
      "metadata": {
        "id": "GxqBpf6m-6v5",
        "colab_type": "code",
        "outputId": "1cc84b8a-02a2-40cb-db80-cf0fcbd3e94c",
        "colab": {
          "base_uri": "https://localhost:8080/",
          "height": 319
        }
      },
      "source": [
        "model.summary()\n"
      ],
      "execution_count": 0,
      "outputs": [
        {
          "output_type": "stream",
          "text": [
            "Model: \"sequential_14\"\n",
            "_________________________________________________________________\n",
            "Layer (type)                 Output Shape              Param #   \n",
            "=================================================================\n",
            "embedding_14 (Embedding)     (None, 50, 100)           2034300   \n",
            "_________________________________________________________________\n",
            "spatial_dropout1d_14 (Spatia (None, 50, 100)           0         \n",
            "_________________________________________________________________\n",
            "bidirectional_3 (Bidirection (None, 128)               84480     \n",
            "_________________________________________________________________\n",
            "dense_21 (Dense)             (None, 64)                8256      \n",
            "_________________________________________________________________\n",
            "dense_22 (Dense)             (None, 1)                 65        \n",
            "=================================================================\n",
            "Total params: 2,127,101\n",
            "Trainable params: 92,801\n",
            "Non-trainable params: 2,034,300\n",
            "_________________________________________________________________\n"
          ],
          "name": "stdout"
        }
      ]
    },
    {
      "cell_type": "code",
      "metadata": {
        "id": "t3RHyKX8_JgO",
        "colab_type": "code",
        "outputId": "4ae53a38-8276-4cff-b3e3-e58c3a028234",
        "colab": {
          "base_uri": "https://localhost:8080/",
          "height": 538
        }
      },
      "source": [
        "history=model.fit(X_train,y_train,batch_size=128,epochs=15,validation_data=(X_test,y_test),verbose=1)"
      ],
      "execution_count": 0,
      "outputs": [
        {
          "output_type": "stream",
          "text": [
            "Train on 6471 samples, validate on 1142 samples\n",
            "Epoch 1/15\n",
            "6471/6471 [==============================] - 16s 2ms/step - loss: 0.5555 - acc: 0.7322 - val_loss: 0.4629 - val_acc: 0.7916\n",
            "Epoch 2/15\n",
            "6471/6471 [==============================] - 12s 2ms/step - loss: 0.4771 - acc: 0.7840 - val_loss: 0.4639 - val_acc: 0.7846\n",
            "Epoch 3/15\n",
            "6471/6471 [==============================] - 12s 2ms/step - loss: 0.4659 - acc: 0.7878 - val_loss: 0.4496 - val_acc: 0.7933\n",
            "Epoch 4/15\n",
            "6471/6471 [==============================] - 12s 2ms/step - loss: 0.4574 - acc: 0.7894 - val_loss: 0.4417 - val_acc: 0.7863\n",
            "Epoch 5/15\n",
            "6471/6471 [==============================] - 13s 2ms/step - loss: 0.4493 - acc: 0.7952 - val_loss: 0.4426 - val_acc: 0.7933\n",
            "Epoch 6/15\n",
            "6471/6471 [==============================] - 12s 2ms/step - loss: 0.4403 - acc: 0.8025 - val_loss: 0.4384 - val_acc: 0.7968\n",
            "Epoch 7/15\n",
            "6471/6471 [==============================] - 12s 2ms/step - loss: 0.4463 - acc: 0.7948 - val_loss: 0.4389 - val_acc: 0.7942\n",
            "Epoch 8/15\n",
            "6471/6471 [==============================] - 12s 2ms/step - loss: 0.4314 - acc: 0.8068 - val_loss: 0.4342 - val_acc: 0.8030\n",
            "Epoch 9/15\n",
            "6471/6471 [==============================] - 12s 2ms/step - loss: 0.4240 - acc: 0.8095 - val_loss: 0.4418 - val_acc: 0.8012\n",
            "Epoch 10/15\n",
            "6471/6471 [==============================] - 12s 2ms/step - loss: 0.4211 - acc: 0.8082 - val_loss: 0.4439 - val_acc: 0.7977\n",
            "Epoch 11/15\n",
            "6471/6471 [==============================] - 12s 2ms/step - loss: 0.4073 - acc: 0.8207 - val_loss: 0.4452 - val_acc: 0.7960\n",
            "Epoch 12/15\n",
            "6471/6471 [==============================] - 13s 2ms/step - loss: 0.4019 - acc: 0.8226 - val_loss: 0.4384 - val_acc: 0.8012\n",
            "Epoch 13/15\n",
            "6471/6471 [==============================] - 12s 2ms/step - loss: 0.4049 - acc: 0.8195 - val_loss: 0.4479 - val_acc: 0.7960\n",
            "Epoch 14/15\n",
            "6471/6471 [==============================] - 12s 2ms/step - loss: 0.3985 - acc: 0.8246 - val_loss: 0.4318 - val_acc: 0.8065\n",
            "Epoch 15/15\n",
            "6471/6471 [==============================] - 12s 2ms/step - loss: 0.3930 - acc: 0.8243 - val_loss: 0.4631 - val_acc: 0.7986\n"
          ],
          "name": "stdout"
        }
      ]
    },
    {
      "cell_type": "code",
      "metadata": {
        "id": "VoIjPYVg-6_K",
        "colab_type": "code",
        "colab": {}
      },
      "source": [
        "predict_kaggle(model)"
      ],
      "execution_count": 0,
      "outputs": []
    },
    {
      "cell_type": "code",
      "metadata": {
        "id": "9MTwyozq5LPP",
        "colab_type": "code",
        "colab": {}
      },
      "source": [
        ""
      ],
      "execution_count": 0,
      "outputs": []
    },
    {
      "cell_type": "code",
      "metadata": {
        "id": "ovRgNXyV3RBf",
        "colab_type": "code",
        "colab": {}
      },
      "source": [
        ""
      ],
      "execution_count": 0,
      "outputs": []
    },
    {
      "cell_type": "code",
      "metadata": {
        "id": "zy8f3I2S5D7y",
        "colab_type": "code",
        "colab": {}
      },
      "source": [
        ""
      ],
      "execution_count": 0,
      "outputs": []
    }
  ]
}